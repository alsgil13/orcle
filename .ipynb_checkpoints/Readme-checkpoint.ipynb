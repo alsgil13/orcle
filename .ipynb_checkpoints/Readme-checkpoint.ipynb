{
 "cells": [
  {
   "cell_type": "markdown",
   "metadata": {},
   "source": [
    "<h1> O r c l e !</h1>"
   ]
  },
  {
   "cell_type": "markdown",
   "metadata": {},
   "source": [
    "<h2>Um sistema simples de gestão de empréstimo de intens</h2>"
   ]
  },
  {
   "cell_type": "markdown",
   "metadata": {},
   "source": [
    "<p>Este projeto foi realizado como parte dos critérios necessários para aprovação na disciplina de Tópicos Especiais em Informática, ministrada pelo Prof. Fabrício Henrique na FATEC - Ribeirão Preto\n",
    "</p>"
   ]
  },
  {
   "cell_type": "markdown",
   "metadata": {},
   "source": [
    "<h3>Objetivo</h3>\n",
    "<p>Desenvolver uma aplicação utilizando a linguagem de programação Python de acordo com o tema escolhido em Sala de Aula.</p>"
   ]
  },
  {
   "cell_type": "markdown",
   "metadata": {},
   "source": [
    "<h3> Requisitos </h3>\n",
    "<strong><p>Implementar uma aplicação que contenha pelo menos dez interfaces gráficas (UI)</p></strong>\n",
    "<p>O sistema desenvolvido conta com as seguintes interfaces:\n",
    "<ul>\n",
    "    <li> Index: Esta tela apresenta apenas o logo e os botões de login e de criar conta</li>\n",
    "    <li> Criar Conta: tela com formulário a ser preenchido por novos usuários</li>\n",
    "    <strong><li> Login: tela com formulário a ser preenchido por usuários já cadastrados para acesso ao sistema</li></strong>\n",
    "    <strong><li> Sobre: tela com informações do Projeto</li></strong>\n",
    "    <li>Meu Orcle\n",
    "        <ul>\n",
    "            <li>Meu Perfil: Tela com informaçõs do Usuário\n",
    "                <ul>\n",
    "                    <li>Editar Perfil: Formulário para edição de informações do Usuário</li>\n",
    "                    <li>Baixar meus itens: Botão para dowload dos itens cadastrados em formato ZIP (com um JSON dentro)</li>\n",
    "                    <li>Excluir Conta: Botão para exclusão do perfil</li>\n",
    "                </ul>\n",
    "            </li>\n",
    "            <li>Meus Itens: Tela de listagem dos itens de propriedade do Usuário logado\n",
    "                <ul>\n",
    "                    <li>Alterar: Formulário para alteração dos dados do item</li>\n",
    "                    <li>Excluir: Formulário para exclusão do item</li>\n",
    "                </ul>\n",
    "            </li>\n",
    "            <li>Meus Empréstimos: listagem de todos os empréstimos feito pelo usuário\n",
    "                <ul>\n",
    "                    <li>Alterar data de Devolução: formulário para cadastrar nova data de devolução</li>\n",
    "                    <li>Cadastrar Devolução: formulário para registrar devolução</li>\n",
    "                    <li>Confirmar: formulário para aceitar empréstimo solicitado por outro usuário</li>\n",
    "                </ul>\n",
    "            </li>\n",
    "            <li>Sair: faz o logout do sistema</li>\n",
    "    </ul></li>\n",
    "    <li>Pessoas: lista os usuários cadastrados no Orcle!</li>\n",
    "    <li>Itens\n",
    "        <ul>\n",
    "            <li>Listar Itens: lista de todos os itens cadastrados pelos usuários\n",
    "                <ul><li>Pedir emprestado: formulário para solicitação de empréstimo do item</li></ul>\n",
    "            </li>\n",
    "            <li>Criar item: formulário para cadastro do item</li>\n",
    "            <li>Listar Tipos de Item: lista dos tipos cadastrados</li>\n",
    "            <li>Criar Tipo de Item: formulário para criar um novo tipo de item</li>\n",
    "        </ul>\n",
    "    </li>\n",
    "    <li>Detalhes do item: tela que mostra os dados completos do item cadastrado alcançada clicando em qualquer item de 'Listar itens'</li>\n",
    "    <li>Detalhes do Usuário: tela que mostra os dados do usuário, é alcançada clicando em qualquer usuário da lista 'Pessoas'</li>\n",
    "</ul>\n",
    "</p>\n",
    "<strong> <p>Armazenar dados de maneira persistente utilizando o SGBD da sua preferência</p>\n",
    "    <ul>\n",
    "        <li>Os dados precisam ser armazenados em pelo menos três tabelas</li>\n",
    "        <li>Para cada tabela codificar na UI no mínimo três operações, dentre elas: Insert, Update, Delete e/ou Select</li>\n",
    "    </ul></strong>\n",
    "    \n",
    "<p>Os dados foram armazenados no banco de dados SQLite e foram implementados CRUDs para 4 trabelas (Perfil, Item, TipoItem e Empréstimos)</p>\n",
    "<p>Elaborar, necessariamente, as seguintes UI\n",
    "<ul>\n",
    "<li>Login: em que o usuário deverá fornecer um nome de usuário e uma senha. O acesso as funcionalidades do sistema ocorrem apenas para usuários previamente cadastrados.</li>\n",
    "<li>Sobre: que apresente dados do projeto {tema escolhido e objetivo} e dos desenvolvedores: {nome completo e código de matrícula}.</li>\n",
    "<li>Menu: em que o usuário poderá escolher a opção desejada da aplicação.<li>\n",
    "</ul></p>\n",
    "<p>Todas as UI citadas foram implementadas, o menu não foi implementada em uma url específica, mas sim em um componente HTML que é iportado em todas as UIs em que o usuário acessa após logar-se</p>\n",
    "<strong><p>Implementar uma funcionalidade que exporta todos os dados da aplicação no formato JSON. O arquivo deve ser compactado no formato zip.</p></strong>\n",
    "<p>Exportar todos os dados da aplicação descontextualizaria o projeto, além de que esta funcionalidade ja é nativa do Django estando o manage.py apto a exportart um json com todo o banco de dados, em vez disso foi implementada uma funcionalidade que exporta os itens cadastrados pelo usuário</p>\n",
    "<strong><p>Implementar uma funcionalidade para importar dados.</p></strong>\n",
    "<ul>\n",
    "<strong><li>Os dados devem ser disponibilizados em um endereço da web.</li><strong>\n",
    "    <li>Os dados foram importados do <a href=\"https://viacep.com.br/\">VIACEP</a></li>\n",
    "<strong><li>Usar o módulo Requests ou URLlib.</li><strong>\n",
    "        <li>Foi utilizado o modulo Requests</li>\n",
    "<strong><li>Armazenar os dados importados em uma tabela.</li><strong>\n",
    "        <li>Os dados foram armazenados na tabela Profile (perfil)</li>\n",
    "<strong><li>Apresentar os dados importados em uma UI da aplicação.</li><strong>\n",
    "        <li>Os dados são apresentados na tela Meu Perfil</li>\n",
    "</ul>\n",
    "    \n",
    "   \n"
   ]
  }
 ],
 "metadata": {
  "kernelspec": {
   "display_name": "Python 3",
   "language": "python",
   "name": "python3"
  },
  "language_info": {
   "codemirror_mode": {
    "name": "ipython",
    "version": 3
   },
   "file_extension": ".py",
   "mimetype": "text/x-python",
   "name": "python",
   "nbconvert_exporter": "python",
   "pygments_lexer": "ipython3",
   "version": "3.7.3"
  }
 },
 "nbformat": 4,
 "nbformat_minor": 2
}
